{
 "cells": [
  {
   "cell_type": "code",
   "execution_count": 1,
   "metadata": {
    "collapsed": true
   },
   "outputs": [],
   "source": [
    "import requests\n",
    "from IPython.display import display\n",
    "from bis2 import gc2"
   ]
  },
  {
   "cell_type": "code",
   "execution_count": 3,
   "metadata": {},
   "outputs": [
    {
     "name": "stdout",
     "output_type": "stream",
     "text": [
      "{'affected_rows': 0, '_execution_time': 0.022, 'success': True}\n"
     ]
    }
   ],
   "source": [
    "q_createTIR = \"CREATE TABLE IF NOT EXISTS tir.tirtest ( \\\n",
    "    id serial primary key, \\\n",
    "    registration jsonb, \\\n",
    "    itis jsonb, \\\n",
    "    worms jsonb, \\\n",
    "    tess jsonb, \\\n",
    "    natureserve jsonb, \\\n",
    "    sgcn jsonb)\"\n",
    "url_createTIR = gc2.sqlAPI(\"DataDistillery\",\"BCB\")+\"&q=\"+q_createTIR\n",
    "print (requests.get(url_createTIR).json())"
   ]
  },
  {
   "cell_type": "code",
   "execution_count": 69,
   "metadata": {},
   "outputs": [
    {
     "name": "stdout",
     "output_type": "stream",
     "text": [
      "{'affected_rows': 0, 'success': True, '_execution_time': 0.025}\n"
     ]
    }
   ],
   "source": [
    "q_createTIR3 = \"CREATE TABLE IF NOT EXISTS tir.tir ( \\\n",
    "    id serial primary key, \\\n",
    "    registration jsonb, \\\n",
    "    itis jsonb, \\\n",
    "    worms jsonb, \\\n",
    "    tess jsonb, \\\n",
    "    natureserve jsonb, \\\n",
    "    sgcn jsonb)\"\n",
    "url_createTIR3 = gc2.sqlAPI(\"DataDistillery\",\"BCB\")+\"&q=\"+q_createTIR3\n",
    "print (requests.get(url_createTIR3).json())"
   ]
  },
  {
   "cell_type": "code",
   "execution_count": 25,
   "metadata": {},
   "outputs": [
    {
     "name": "stdout",
     "output_type": "stream",
     "text": [
      "{'_execution_time': 0.03, 'success': True, 'affected_rows': 0}\n"
     ]
    }
   ],
   "source": [
    "q_createPropReg = \"CREATE TABLE IF NOT EXISTS tir.propertyregistry ( \\\n",
    "    id serial primary key, \\\n",
    "    name varchar(255), \\\n",
    "    datatype varchar(50), \\\n",
    "    definition text, \\\n",
    "    reference varchar(500) \\\n",
    "    )\"\n",
    "url_createPropReg = gc2.sqlAPI(\"DataDistillery\",\"BCB\")+\"&q=\"+q_createPropReg\n",
    "print (requests.get(url_createPropReg).json())"
   ]
  },
  {
   "cell_type": "code",
   "execution_count": 24,
   "metadata": {},
   "outputs": [
    {
     "name": "stdout",
     "output_type": "stream",
     "text": [
      "{'_execution_time': 0.023, 'success': True, 'affected_rows': 0}\n"
     ]
    }
   ],
   "source": [
    "q_createSGCN = \"CREATE TABLE IF NOT EXISTS sgcn.sgcn ( \\\n",
    "    id serial primary key, \\\n",
    "    sgcn_state varchar(150), \\\n",
    "    sgcn_year int, \\\n",
    "    scientificname_submitted varchar(255), \\\n",
    "    commonname_submitted varchar(255), \\\n",
    "    taxonomicgroup_submitted varchar(255), \\\n",
    "    sourceid varchar(255), \\\n",
    "    firstyear boolean, \\\n",
    "    sourcefilename varchar(255), \\\n",
    "    sourcefileurl varchar(255) \\\n",
    "    )\"\n",
    "url_createSGCN = gc2.sqlAPI(\"DataDistillery\",\"BCB\")+\"&q=\"+q_createSGCN\n",
    "print (requests.get(url_createSGCN).json())"
   ]
  },
  {
   "cell_type": "code",
   "execution_count": 9,
   "metadata": {},
   "outputs": [
    {
     "name": "stdout",
     "output_type": "stream",
     "text": [
      "{'_execution_time': 0.136, 'affected_rows': 0, 'success': True, 'auth_check': {'auth_level': None, 'success': True, 'session': None}}\n"
     ]
    }
   ],
   "source": [
    "q_createNationalListView = \"CREATE VIEW sgcn.sgcn_nationallist AS \\\n",
    "    SELECT t.scientificname AS scientificname, \\\n",
    "    array_to_string(array_agg(DISTINCT t.registration->>'scientificname'), ',') AS scientificnames_submitted, \\\n",
    "    (array_agg(t.authorityid))[1] AS taxonomicauthorityid, \\\n",
    "    (array_agg(t.commonname))[1] AS commonname, \\\n",
    "    (array_agg(t.rank))[1] AS taxonomicrank, \\\n",
    "    (array_agg(t.matchmethod))[1] AS matchmethod, \\\n",
    "    (array_agg(t.taxonomicgroup))[1] AS taxonomicgroup, \\\n",
    "    array_to_string(array_agg(CASE WHEN s.sgcn_year=2005 THEN s.sgcn_state ELSE NULL END), ',') statelist_2005, \\\n",
    "    array_to_string(array_agg(CASE WHEN s.sgcn_year=2015 THEN s.sgcn_state ELSE NULL END), ',') statelist_2015, \\\n",
    "    sum(((s.sgcn_year = 2005))::integer) AS sgcn2005, \\\n",
    "    sum(((s.sgcn_year = 2015))::integer) AS sgcn2015 \\\n",
    "    FROM tir.tir t \\\n",
    "    JOIN sgcn.sgcn s ON \\\n",
    "    s.scientificname_submitted = t.registration->>'scientificname' \\\n",
    "    WHERE t.authorityid != 'Not Matched to Taxonomic Authority' \\\n",
    "    AND t.registration->>'source' = 'SGCN' \\\n",
    "    GROUP BY t.scientificname\"\n",
    "url_createNationalListView = gc2.sqlAPI(\"DataDistillery\",\"BCB\")+\"&q=\"+q_createNationalListView\n",
    "print (requests.get(url_createNationalListView).json())"
   ]
  },
  {
   "cell_type": "code",
   "execution_count": 8,
   "metadata": {},
   "outputs": [
    {
     "name": "stdout",
     "output_type": "stream",
     "text": [
      "{'_execution_time': 0.133, 'affected_rows': 0, 'success': True, 'auth_check': {'auth_level': None, 'success': True, 'session': None}}\n"
     ]
    }
   ],
   "source": [
    "q_createStateLists = \"CREATE VIEW sgcn.sgcn_statelists AS \\\n",
    "    SELECT s.sgcn_state, \\\n",
    "    t.scientificname, \\\n",
    "    array_to_string(array_agg(DISTINCT s.scientificname_submitted), ',') AS scientificnames_submitted, \\\n",
    "    (array_agg(t.authorityid))[1] AS taxonomicauthorityid, \\\n",
    "    (array_agg(t.commonname))[1] AS commonname, \\\n",
    "    (array_agg(t.rank))[1] AS taxonomicrank, \\\n",
    "    (array_agg(t.matchmethod))[1] AS matchmethod, \\\n",
    "    (array_agg(t.taxonomicgroup))[1] AS taxonomicgroup, \\\n",
    "    (array_agg(t.cachedate))[1] AS cachedate, \\\n",
    "    sum(((s.sgcn_year = 2005))::integer) AS sgcn2005, \\\n",
    "    sum(((s.sgcn_year = 2015))::integer) AS sgcn2015 \\\n",
    "    FROM sgcn.sgcn s \\\n",
    "    LEFT JOIN tir.tir t ON \\\n",
    "    t.registration->>'scientificname' = s.scientificname_submitted \\\n",
    "    WHERE t.registration->>'source' = 'SGCN' \\\n",
    "    GROUP BY s.sgcn_state, t.scientificname\"\n",
    "url_createStateListView = gc2.sqlAPI(\"DataDistillery\",\"BCB\")+\"&q=\"+q_createStateLists\n",
    "print (requests.get(url_createStateListView).json())"
   ]
  },
  {
   "cell_type": "code",
   "execution_count": 4,
   "metadata": {},
   "outputs": [
    {
     "name": "stdout",
     "output_type": "stream",
     "text": [
      "{'success': True, 'affected_rows': 0, '_execution_time': 0.047}\n"
     ]
    }
   ],
   "source": [
    "q_createSfrPoly = \"CREATE TABLE IF NOT EXISTS sfr.sfr_poly ( \\\n",
    "    id serial primary key, \\\n",
    "    registration jsonb, \\\n",
    "    alt_info jsonb, \\\n",
    "    spat_cert varchar(150), \\\n",
    "    title varchar(250), \\\n",
    "    ftype varchar(150), \\\n",
    "    the_geom geometry(MultiPolygon, 3857))\"\n",
    "url_createSfrPoly = gc2.sqlAPI(\"DataDistillery\",\"BCB\")+\"&q=\"+q_createSfrPoly\n",
    "print (requests.get(url_createSfrPoly).json())"
   ]
  },
  {
   "cell_type": "code",
   "execution_count": 5,
   "metadata": {},
   "outputs": [
    {
     "name": "stdout",
     "output_type": "stream",
     "text": [
      "{'success': True, 'affected_rows': 0, '_execution_time': 0.04}\n"
     ]
    }
   ],
   "source": [
    "q_createSfrLine = \"CREATE TABLE IF NOT EXISTS sfr.sfr_line( \\\n",
    "    id serial primary key, \\\n",
    "    registration jsonb, \\\n",
    "    alt_info jsonb, \\\n",
    "    spat_cert varchar(150), \\\n",
    "    title varchar(250), \\\n",
    "    ftype varchar(150), \\\n",
    "    the_geom geometry(MultiLineString, 3857))\"\n",
    "url_createSfrLine = gc2.sqlAPI(\"DataDistillery\",\"BCB\")+\"&q=\"+q_createSfrLine\n",
    "print (requests.get(url_createSfrLine).json())"
   ]
  },
  {
   "cell_type": "code",
   "execution_count": 6,
   "metadata": {},
   "outputs": [
    {
     "name": "stdout",
     "output_type": "stream",
     "text": [
      "{'success': True, 'affected_rows': 0, '_execution_time': 0.045}\n"
     ]
    }
   ],
   "source": [
    "q_createSfrPoint = \"CREATE TABLE IF NOT EXISTS sfr.sfr_point( \\\n",
    "    id serial primary key, \\\n",
    "    registration jsonb, \\\n",
    "    alt_info jsonb, \\\n",
    "    spat_cert varchar(150), \\\n",
    "    title varchar(250), \\\n",
    "    ftype varchar(150), \\\n",
    "    the_geom geometry(MultiPoint, 3857))\"\n",
    "url_createSfrPoint = gc2.sqlAPI(\"DataDistillery\",\"BCB\")+\"&q=\"+q_createSfrPoint\n",
    "print (requests.get(url_createSfrPoint).json())"
   ]
  }
 ],
 "metadata": {
  "kernelspec": {
   "display_name": "Python 3",
   "language": "python",
   "name": "python3"
  },
  "language_info": {
   "codemirror_mode": {
    "name": "ipython",
    "version": 3
   },
   "file_extension": ".py",
   "mimetype": "text/x-python",
   "name": "python",
   "nbconvert_exporter": "python",
   "pygments_lexer": "ipython3",
   "version": "3.6.1"
  }
 },
 "nbformat": 4,
 "nbformat_minor": 1
}
