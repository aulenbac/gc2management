{
 "cells": [
  {
   "cell_type": "code",
   "execution_count": 1,
   "metadata": {
    "collapsed": true,
    "deletable": true,
    "editable": true
   },
   "outputs": [],
   "source": [
    "import requests\n",
    "from IPython.display import display\n",
    "from bis2 import gc2"
   ]
  },
  {
   "cell_type": "code",
   "execution_count": 3,
   "metadata": {
    "collapsed": false,
    "deletable": true,
    "editable": true
   },
   "outputs": [
    {
     "name": "stdout",
     "output_type": "stream",
     "text": [
      "{'affected_rows': 0, '_execution_time': 0.022, 'success': True}\n"
     ]
    }
   ],
   "source": [
    "q_createTIR = \"CREATE TABLE IF NOT EXISTS tir.tirtest ( \\\n",
    "    id serial primary key, \\\n",
    "    registration jsonb, \\\n",
    "    itis jsonb, \\\n",
    "    worms jsonb, \\\n",
    "    tess jsonb, \\\n",
    "    natureserve jsonb, \\\n",
    "    sgcn jsonb)\"\n",
    "url_createTIR = gc2.sqlAPI(\"DataDistillery\",\"BCB\")+\"&q=\"+q_createTIR\n",
    "print (requests.get(url_createTIR).json())"
   ]
  },
  {
   "cell_type": "code",
   "execution_count": 69,
   "metadata": {
    "collapsed": false,
    "deletable": true,
    "editable": true
   },
   "outputs": [
    {
     "name": "stdout",
     "output_type": "stream",
     "text": [
      "{'affected_rows': 0, 'success': True, '_execution_time': 0.025}\n"
     ]
    }
   ],
   "source": [
    "q_createTIR3 = \"CREATE TABLE IF NOT EXISTS tir.tir ( \\\n",
    "    id serial primary key, \\\n",
    "    registration jsonb, \\\n",
    "    itis jsonb, \\\n",
    "    worms jsonb, \\\n",
    "    tess jsonb, \\\n",
    "    natureserve jsonb, \\\n",
    "    sgcn jsonb)\"\n",
    "url_createTIR3 = gc2.sqlAPI(\"DataDistillery\",\"BCB\")+\"&q=\"+q_createTIR3\n",
    "print (requests.get(url_createTIR3).json())"
   ]
  },
  {
   "cell_type": "code",
   "execution_count": 25,
   "metadata": {
    "collapsed": false,
    "deletable": true,
    "editable": true
   },
   "outputs": [
    {
     "name": "stdout",
     "output_type": "stream",
     "text": [
      "{'_execution_time': 0.03, 'success': True, 'affected_rows': 0}\n"
     ]
    }
   ],
   "source": [
    "q_createPropReg = \"CREATE TABLE IF NOT EXISTS tir.propertyregistry ( \\\n",
    "    id serial primary key, \\\n",
    "    name varchar(255), \\\n",
    "    datatype varchar(50), \\\n",
    "    definition text, \\\n",
    "    reference varchar(500) \\\n",
    "    )\"\n",
    "url_createPropReg = gc2.sqlAPI(\"DataDistillery\",\"BCB\")+\"&q=\"+q_createPropReg\n",
    "print (requests.get(url_createPropReg).json())"
   ]
  },
  {
   "cell_type": "code",
   "execution_count": 24,
   "metadata": {
    "collapsed": false,
    "deletable": true,
    "editable": true
   },
   "outputs": [
    {
     "name": "stdout",
     "output_type": "stream",
     "text": [
      "{'_execution_time': 0.023, 'success': True, 'affected_rows': 0}\n"
     ]
    }
   ],
   "source": [
    "q_createSGCN = \"CREATE TABLE IF NOT EXISTS sgcn.sgcn ( \\\n",
    "    id serial primary key, \\\n",
    "    sgcn_state varchar(150), \\\n",
    "    sgcn_year int, \\\n",
    "    scientificname_submitted varchar(255), \\\n",
    "    commonname_submitted varchar(255), \\\n",
    "    taxonomicgroup_submitted varchar(255), \\\n",
    "    sourceid varchar(255), \\\n",
    "    firstyear boolean, \\\n",
    "    sourcefilename varchar(255), \\\n",
    "    sourcefileurl varchar(255) \\\n",
    "    )\"\n",
    "url_createSGCN = gc2.sqlAPI(\"DataDistillery\",\"BCB\")+\"&q=\"+q_createSGCN\n",
    "print (requests.get(url_createSGCN).json())"
   ]
  },
  {
   "cell_type": "code",
   "execution_count": 72,
   "metadata": {
    "collapsed": false,
    "deletable": true,
    "editable": true
   },
   "outputs": [
    {
     "name": "stdout",
     "output_type": "stream",
     "text": [
      "{'affected_rows': 0, 'success': True, '_execution_time': 0.126, 'auth_check': {'success': True, 'session': None, 'auth_level': None}}\n"
     ]
    }
   ],
   "source": [
    "q_createNationalListView = \"CREATE VIEW sgcn.sgcn_nationallist AS \\\n",
    "    SELECT t.authorityid AS taxonomicauthorityid, \\\n",
    "    (array_agg(t.scientificname))[1] AS scientificname, \\\n",
    "    (array_agg(t.commonname))[1] AS commonname, \\\n",
    "    (array_agg(t.rank))[1] AS taxonomicrank, \\\n",
    "    (array_agg(t.matchmethod))[1] AS matchmethod, \\\n",
    "    (array_agg(t.taxonomicgroup))[1] AS taxonomicgroup, \\\n",
    "    array_to_string(array_agg(CASE WHEN s.sgcn_year=2005 THEN s.sgcn_state ELSE NULL END), ',') statelist_2005, \\\n",
    "    array_to_string(array_agg(CASE WHEN s.sgcn_year=2015 THEN s.sgcn_state ELSE NULL END), ',') statelist_2015, \\\n",
    "    sum(((s.sgcn_year = 2005))::integer) AS sgcn2005, \\\n",
    "    sum(((s.sgcn_year = 2015))::integer) AS sgcn2015 \\\n",
    "    FROM tir.tir t \\\n",
    "    JOIN sgcn.sgcn s ON \\\n",
    "    s.scientificname_submitted = t.registration->>'scientificname' \\\n",
    "    WHERE t.matchmethod != 'Not Matched' \\\n",
    "    GROUP BY t.authorityid\"\n",
    "url_createNationalListView = gc2.sqlAPI(\"DataDistillery\",\"BCB\")+\"&q=\"+q_createNationalListView\n",
    "print (requests.get(url_createNationalListView).json())"
   ]
  },
  {
   "cell_type": "code",
   "execution_count": 4,
   "metadata": {
    "collapsed": false,
    "deletable": true,
    "editable": true
   },
   "outputs": [
    {
     "name": "stdout",
     "output_type": "stream",
     "text": [
      "{'auth_check': {'auth_level': None, 'session': None, 'success': True}, 'affected_rows': 0, '_execution_time': 0.129, 'success': True}\n"
     ]
    }
   ],
   "source": [
    "q_createStateLists = \"CREATE VIEW sgcn.sgcn_statelists AS \\\n",
    "    SELECT s.sgcn_state, \\\n",
    "    s.scientificname_submitted AS scientificname_submitted, \\\n",
    "    (array_agg(t.authorityid))[1] AS taxonomicauthorityid, \\\n",
    "    (array_agg(t.scientificname))[1] AS scientificname, \\\n",
    "    (array_agg(t.commonname))[1] AS commonname, \\\n",
    "    (array_agg(t.rank))[1] AS taxonomicrank, \\\n",
    "    (array_agg(t.matchmethod))[1] AS matchmethod, \\\n",
    "    (array_agg(t.taxonomicgroup))[1] AS taxonomicgroup, \\\n",
    "    sum(((s.sgcn_year = 2005))::integer) AS sgcn2005, \\\n",
    "    sum(((s.sgcn_year = 2015))::integer) AS sgcn2015 \\\n",
    "    FROM sgcn.sgcn s \\\n",
    "    LEFT JOIN tir.tir t ON \\\n",
    "    t.registration->>'scientificname' = s.scientificname_submitted \\\n",
    "    GROUP BY s.sgcn_state, s.scientificname_submitted\"\n",
    "url_createStateListView = gc2.sqlAPI(\"DataDistillery\",\"BCB\")+\"&q=\"+q_createStateLists\n",
    "print (requests.get(url_createStateListView).json())"
   ]
  },
  {
   "cell_type": "code",
   "execution_count": null,
   "metadata": {
    "collapsed": true,
    "deletable": true,
    "editable": true
   },
   "outputs": [],
   "source": []
  }
 ],
 "metadata": {
  "kernelspec": {
   "display_name": "Python 3",
   "language": "python",
   "name": "python3"
  },
  "language_info": {
   "codemirror_mode": {
    "name": "ipython",
    "version": 3
   },
   "file_extension": ".py",
   "mimetype": "text/x-python",
   "name": "python",
   "nbconvert_exporter": "python",
   "pygments_lexer": "ipython3",
   "version": "3.5.3"
  }
 },
 "nbformat": 4,
 "nbformat_minor": 0
}
