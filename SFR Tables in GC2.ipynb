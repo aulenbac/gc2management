{
 "cells": [
  {
   "cell_type": "code",
   "execution_count": 1,
   "metadata": {
    "collapsed": true,
    "deletable": true,
    "editable": true
   },
   "outputs": [],
   "source": [
    "import requests\n",
    "from IPython.display import display\n",
    "from bis2 import gc2"
   ]
  },
  {
   "cell_type": "code",
   "execution_count": 4,
   "metadata": {
    "collapsed": false,
    "deletable": true,
    "editable": true
   },
   "outputs": [
    {
     "name": "stdout",
     "output_type": "stream",
     "text": [
      "{'success': True, 'affected_rows': 0, '_execution_time': 0.047}\n"
     ]
    }
   ],
   "source": [
    "q_createSfrPoly = \"CREATE TABLE IF NOT EXISTS sfr.sfr_poly ( \\\n",
    "    id serial primary key, \\\n",
    "    registration jsonb, \\\n",
    "    alt_info jsonb, \\\n",
    "    spat_cert varchar(150), \\\n",
    "    title varchar(250), \\\n",
    "    ftype varchar(150), \\\n",
    "    the_geom geometry(MultiPolygon, 3857))\"\n",
    "url_createSfrPoly = gc2.sqlAPI(\"DataDistillery\",\"BCB\")+\"&q=\"+q_createSfrPoly\n",
    "print (requests.get(url_createSfrPoly).json())"
   ]
  },
  {
   "cell_type": "code",
   "execution_count": 5,
   "metadata": {
    "collapsed": false,
    "deletable": true,
    "editable": true
   },
   "outputs": [
    {
     "name": "stdout",
     "output_type": "stream",
     "text": [
      "{'success': True, 'affected_rows': 0, '_execution_time': 0.04}\n"
     ]
    }
   ],
   "source": [
    "q_createSfrLine = \"CREATE TABLE IF NOT EXISTS sfr.sfr_line( \\\n",
    "    id serial primary key, \\\n",
    "    registration jsonb, \\\n",
    "    alt_info jsonb, \\\n",
    "    spat_cert varchar(150), \\\n",
    "    title varchar(250), \\\n",
    "    ftype varchar(150), \\\n",
    "    the_geom geometry(MultiLineString, 3857))\"\n",
    "url_createSfrLine = gc2.sqlAPI(\"DataDistillery\",\"BCB\")+\"&q=\"+q_createSfrLine\n",
    "print (requests.get(url_createSfrLine).json())"
   ]
  },
  {
   "cell_type": "code",
   "execution_count": 6,
   "metadata": {
    "collapsed": false,
    "deletable": true,
    "editable": true
   },
   "outputs": [
    {
     "name": "stdout",
     "output_type": "stream",
     "text": [
      "{'success': True, 'affected_rows': 0, '_execution_time': 0.045}\n"
     ]
    }
   ],
   "source": [
    "q_createSfrPoint = \"CREATE TABLE IF NOT EXISTS sfr.sfr_point( \\\n",
    "    id serial primary key, \\\n",
    "    registration jsonb, \\\n",
    "    alt_info jsonb, \\\n",
    "    spat_cert varchar(150), \\\n",
    "    title varchar(250), \\\n",
    "    ftype varchar(150), \\\n",
    "    the_geom geometry(MultiPoint, 3857))\"\n",
    "url_createSfrPoint = gc2.sqlAPI(\"DataDistillery\",\"BCB\")+\"&q=\"+q_createSfrPoint\n",
    "print (requests.get(url_createSfrPoint).json())"
   ]
  },
  {
   "cell_type": "code",
   "execution_count": null,
   "metadata": {
    "collapsed": true,
    "deletable": true,
    "editable": true
   },
   "outputs": [],
   "source": [
    "q_createNationalListView = \"CREATE VIEW sgcn.sgcn_search AS \\\n",
    "    SELECT t.scientificname AS scientificname, \\\n",
    "    array_to_string(array_agg(DISTINCT t.registration->>'scientificname'), ',') AS scientificnames_submitted, \\\n",
    "    (array_agg(t.authorityid))[1] AS taxonomicauthorityid, \\\n",
    "    (array_agg(t.commonname))[1] AS commonname, \\\n",
    "    (array_agg(t.rank))[1] AS taxonomicrank, \\\n",
    "    (array_agg(t.matchmethod))[1] AS matchmethod, \\\n",
    "    (array_agg(t.taxonomicgroup))[1] AS taxonomicgroup, \\\n",
    "    array_to_string(array_agg(CASE WHEN s.sgcn_year=2005 THEN s.sgcn_state ELSE NULL END), ',') statelist_2005, \\\n",
    "    array_to_string(array_agg(CASE WHEN s.sgcn_year=2015 THEN s.sgcn_state ELSE NULL END), ',') statelist_2015, \\\n",
    "    sum(((s.sgcn_year = 2005))::integer) AS sgcn2005, \\\n",
    "    sum(((s.sgcn_year = 2015))::integer) AS sgcn2015 \\\n",
    "    FROM tir.tir t \\\n",
    "    JOIN sgcn.sgcn s ON \\\n",
    "    s.scientificname_submitted = t.registration->>'scientificname' \\\n",
    "    WHERE t.registration->>'source' = 'SGCN' \\\n",
    "    GROUP BY t.scientificname\"\n",
    "url_createNationalListView = gc2.sqlAPI(\"DataDistillery\",\"BCB\")+\"&q=\"+q_createNationalListView\n",
    "print (requests.get(url_createNationalListView).json())"
   ]
  }
 ],
 "metadata": {
  "kernelspec": {
   "display_name": "Python 3",
   "language": "python",
   "name": "python3"
  },
  "language_info": {
   "codemirror_mode": {
    "name": "ipython",
    "version": 3
   },
   "file_extension": ".py",
   "mimetype": "text/x-python",
   "name": "python",
   "nbconvert_exporter": "python",
   "pygments_lexer": "ipython3",
   "version": "3.5.3"
  }
 },
 "nbformat": 4,
 "nbformat_minor": 1
}
