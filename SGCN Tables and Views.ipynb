{
 "cells": [
  {
   "cell_type": "markdown",
   "metadata": {
    "deletable": true,
    "editable": true
   },
   "source": [
    "This notebook contains SQL code for building out the tables and views in the SGCN schema of the DataDistillery instance of GC2."
   ]
  },
  {
   "cell_type": "code",
   "execution_count": 1,
   "metadata": {
    "collapsed": true,
    "deletable": true,
    "editable": true
   },
   "outputs": [],
   "source": [
    "import requests\n",
    "from IPython.display import display\n",
    "from bis2 import gc2"
   ]
  },
  {
   "cell_type": "markdown",
   "metadata": {
    "deletable": true,
    "editable": true
   },
   "source": [
    "### Core SGCN table\n",
    "\n",
    "This table essentially mirrors the combined schemas of input data between 2005 and 2015 for SWAP/SGCN lists submitted from states. It is used to house the data produced via code that processes the SGCN repository in ScienceBase."
   ]
  },
  {
   "cell_type": "code",
   "execution_count": 24,
   "metadata": {
    "collapsed": false,
    "deletable": true,
    "editable": true
   },
   "outputs": [
    {
     "name": "stdout",
     "output_type": "stream",
     "text": [
      "{'_execution_time': 0.023, 'success': True, 'affected_rows': 0}\n"
     ]
    }
   ],
   "source": [
    "q_createSGCN = \"CREATE TABLE IF NOT EXISTS sgcn.sgcn ( \\\n",
    "    id serial primary key, \\\n",
    "    sgcn_state varchar(150), \\\n",
    "    sgcn_year int, \\\n",
    "    scientificname_submitted varchar(255), \\\n",
    "    commonname_submitted varchar(255), \\\n",
    "    taxonomicgroup_submitted varchar(255), \\\n",
    "    sourceid varchar(255), \\\n",
    "    firstyear boolean, \\\n",
    "    sourcefilename varchar(255), \\\n",
    "    sourcefileurl varchar(255) \\\n",
    "    )\"\n",
    "url_createSGCN = gc2.sqlAPI(\"DataDistillery\",\"BCB\")+\"&q=\"+q_createSGCN\n",
    "print (requests.get(url_createSGCN).json())"
   ]
  },
  {
   "cell_type": "markdown",
   "metadata": {
    "deletable": true,
    "editable": true
   },
   "source": [
    "### National List\n",
    "\n",
    "This view joins the SGCN table with the Taxa Information Registry where unique SGCN submitted names have been processed against taxonomic authorities and other annotation codes. The \"SGCN National List\" is assembled for names that have been matched against ITIS or WoRMS, or names which were originally identified as being \"correct\" in the 2005 SWAP exercise.\n",
    "\n",
    "The view groups on the \"scientificname\" property from the TIR, which is produced through the TIR Common Properties script to pull the \"best\" scientific name for use. It aggregates or sums other properties to produce a synthesized list of those taxa that we consider to be on the national list. It creates individual properties for taxonomic rank, match method, and taxonomic group that are used as filtering parameters when the data are piped from the view into an ElasticSearch index. It also produces a full list of states that submitted names that were matched to the national list names. The view excludes any taxa that were not matched to a taxonomic authority."
   ]
  },
  {
   "cell_type": "code",
   "execution_count": 3,
   "metadata": {
    "collapsed": false,
    "deletable": true,
    "editable": true
   },
   "outputs": [
    {
     "name": "stdout",
     "output_type": "stream",
     "text": [
      "{'success': True, '_execution_time': 0.148, 'affected_rows': 0, 'auth_check': {'success': True, 'auth_level': None, 'session': None}}\n"
     ]
    }
   ],
   "source": [
    "q_createNationalListView = \"CREATE VIEW sgcn.sgcn_nationallist AS \\\n",
    "    SELECT t.scientificname AS scientificname, \\\n",
    "    array_to_string(array_agg(DISTINCT t.registration->>'scientificname'), ',') AS scientificnames_submitted, \\\n",
    "    (array_agg(t.authorityid))[1] AS taxonomicauthorityid, \\\n",
    "    (array_agg(t.commonname))[1] AS commonname, \\\n",
    "    (array_agg(t.rank))[1] AS taxonomicrank, \\\n",
    "    (array_agg(t.matchmethod))[1] AS matchmethod, \\\n",
    "    (array_agg(t.taxonomicgroup))[1] AS taxonomicgroup, \\\n",
    "    array_to_string(array_agg(DISTINCT CASE WHEN s.sgcn_year=2005 THEN s.sgcn_state END), ',') statelist_2005, \\\n",
    "    array_to_string(array_agg(DISTINCT CASE WHEN s.sgcn_year=2015 THEN s.sgcn_state END), ',') statelist_2015, \\\n",
    "    coalesce(array_length(array_remove(array_agg(DISTINCT CASE WHEN s.sgcn_year=2005 THEN s.sgcn_state END), null), 1), 0) sgcn2005, \\\n",
    "    coalesce(array_length(array_remove(array_agg(DISTINCT CASE WHEN s.sgcn_year=2015 THEN s.sgcn_state END), null), 1), 0) sgcn2015 \\\n",
    "    FROM tir.tir t \\\n",
    "    JOIN sgcn.sgcn s ON \\\n",
    "    s.scientificname_submitted = t.registration->>'scientificname' \\\n",
    "    WHERE t.authorityid != 'Not Matched to Taxonomic Authority' \\\n",
    "    AND t.registration->>'source' = 'SGCN' \\\n",
    "    GROUP BY t.scientificname\"\n",
    "url_createNationalListView = gc2.sqlAPI(\"DataDistillery\",\"BCB\")+\"&q=\"+q_createNationalListView\n",
    "print (requests.get(url_createNationalListView).json())"
   ]
  },
  {
   "cell_type": "markdown",
   "metadata": {
    "deletable": true,
    "editable": true
   },
   "source": [
    "### SGCN Search\n",
    "\n",
    "This query produces a view that includes every unique name submitted through the SGCN process whether or not it was matched to a taxonomic authority. It is much the same as the view that provides the SGCN National List except that it includes both matched and nonmatched names and it incorporates the JSON data structures from the Taxa Information Registry that are valuable for search and display purposes. This view and its associated ElasticSearch index give us the \"species pages\" for the SSGCN application. They provide everything necessary in each record to produce those pages."
   ]
  },
  {
   "cell_type": "code",
   "execution_count": 4,
   "metadata": {
    "collapsed": false,
    "deletable": true,
    "editable": true
   },
   "outputs": [
    {
     "name": "stdout",
     "output_type": "stream",
     "text": [
      "{'success': True, 'auth_check': {'success': True, 'session': None, 'auth_level': None}, '_execution_time': 0.193, 'affected_rows': 0}\n"
     ]
    }
   ],
   "source": [
    "q_createSGCNSearch = \"CREATE VIEW sgcn.sgcn_search AS \\\n",
    "    SELECT t.scientificname AS scientificname, \\\n",
    "    array_to_string(array_agg(DISTINCT t.registration->>'scientificname'), ',') AS scientificnames_submitted, \\\n",
    "    (array_agg(t.authorityid))[1] AS taxonomicauthorityid, \\\n",
    "    (array_agg(t.commonname))[1] AS commonname, \\\n",
    "    (array_agg(t.rank))[1] AS taxonomicrank, \\\n",
    "    (array_agg(t.matchmethod))[1] AS matchmethod, \\\n",
    "    (array_agg(t.taxonomicgroup))[1] AS taxonomicgroup, \\\n",
    "    (array_agg(t.registration))[1]::jsonb AS registration, \\\n",
    "    (array_agg(t.itis))[1]::jsonb AS itis, \\\n",
    "    (array_agg(t.worms))[1]::jsonb AS worms, \\\n",
    "    (array_agg(t.tess))[1]::jsonb AS tess, \\\n",
    "    (array_agg(t.natureserve))[1]::jsonb AS natureserve, \\\n",
    "    (array_agg(t.sgcn))[1]::jsonb AS sgcn, \\\n",
    "    array_to_string(array_agg(CASE WHEN s.sgcn_year=2005 THEN s.sgcn_state ELSE NULL END), ',') statelist_2005, \\\n",
    "    array_to_string(array_agg(CASE WHEN s.sgcn_year=2015 THEN s.sgcn_state ELSE NULL END), ',') statelist_2015, \\\n",
    "    sum(((s.sgcn_year = 2005))::integer) AS sgcn2005, \\\n",
    "    sum(((s.sgcn_year = 2015))::integer) AS sgcn2015 \\\n",
    "    FROM tir.tir t \\\n",
    "    JOIN sgcn.sgcn s ON \\\n",
    "    s.scientificname_submitted = t.registration->>'scientificname' \\\n",
    "    WHERE t.registration->>'source' = 'SGCN' \\\n",
    "    GROUP BY t.scientificname\"\n",
    "url_createSGCNSearch = gc2.sqlAPI(\"DataDistillery\",\"BCB\")+\"&q=\"+q_createSGCNSearch\n",
    "print (requests.get(url_createSGCNSearch).json())"
   ]
  },
  {
   "cell_type": "markdown",
   "metadata": {
    "deletable": true,
    "editable": true
   },
   "source": [
    "### State Lists\n",
    "\n",
    "The state lists view is built by grouping on each state from the SGCN table along with the \"best\" scientific name from the TIR, such that we end up with a list for each state that includes every unique taxon name they have supplied across all years with other core attributes aggregated. The sgcn2005 and sgcn2015 properties, regardless of the actual numbers in those properties, simply indicate that the taxon was submitted for the associated year. There will be cases where this number is greater than 1 when a given submitted name ended up mapping to the same taxon from an authority."
   ]
  },
  {
   "cell_type": "code",
   "execution_count": 8,
   "metadata": {
    "collapsed": false,
    "deletable": true,
    "editable": true
   },
   "outputs": [
    {
     "name": "stdout",
     "output_type": "stream",
     "text": [
      "{'_execution_time': 0.133, 'affected_rows': 0, 'success': True, 'auth_check': {'auth_level': None, 'success': True, 'session': None}}\n"
     ]
    }
   ],
   "source": [
    "q_createStateLists = \"CREATE VIEW sgcn.sgcn_statelists AS \\\n",
    "    SELECT s.sgcn_state, \\\n",
    "    t.scientificname, \\\n",
    "    array_to_string(array_agg(DISTINCT s.scientificname_submitted), ',') AS scientificnames_submitted, \\\n",
    "    (array_agg(t.authorityid))[1] AS taxonomicauthorityid, \\\n",
    "    (array_agg(t.commonname))[1] AS commonname, \\\n",
    "    (array_agg(t.rank))[1] AS taxonomicrank, \\\n",
    "    (array_agg(t.matchmethod))[1] AS matchmethod, \\\n",
    "    (array_agg(t.taxonomicgroup))[1] AS taxonomicgroup, \\\n",
    "    (array_agg(t.cachedate))[1] AS cachedate, \\\n",
    "    sum(((s.sgcn_year = 2005))::integer) AS sgcn2005, \\\n",
    "    sum(((s.sgcn_year = 2015))::integer) AS sgcn2015 \\\n",
    "    FROM sgcn.sgcn s \\\n",
    "    LEFT JOIN tir.tir t ON \\\n",
    "    t.registration->>'scientificname' = s.scientificname_submitted \\\n",
    "    WHERE t.registration->>'source' = 'SGCN' \\\n",
    "    GROUP BY s.sgcn_state, t.scientificname\"\n",
    "url_createStateListView = gc2.sqlAPI(\"DataDistillery\",\"BCB\")+\"&q=\"+q_createStateLists\n",
    "print (requests.get(url_createStateListView).json())"
   ]
  }
 ],
 "metadata": {
  "kernelspec": {
   "display_name": "Python 3",
   "language": "python",
   "name": "python3"
  },
  "language_info": {
   "codemirror_mode": {
    "name": "ipython",
    "version": 3
   },
   "file_extension": ".py",
   "mimetype": "text/x-python",
   "name": "python",
   "nbconvert_exporter": "python",
   "pygments_lexer": "ipython3",
   "version": "3.5.3"
  }
 },
 "nbformat": 4,
 "nbformat_minor": 1
}
